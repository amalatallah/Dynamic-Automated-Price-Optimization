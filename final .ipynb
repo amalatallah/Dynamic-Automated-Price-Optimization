{
 "cells": [
  {
   "cell_type": "code",
   "execution_count": 60,
   "id": "626dff61",
   "metadata": {},
   "outputs": [],
   "source": [
    "import pandas as  pd \n",
    "from tensorflow.keras.models import load_model\n",
    "import numpy as np "
   ]
  },
  {
   "cell_type": "code",
   "execution_count": 95,
   "id": "564430d2",
   "metadata": {},
   "outputs": [],
   "source": [
    "path = \"output_data.csv\"\n",
    "def data_process (path): \n",
    "    \n",
    "        data = pd.read_csv(path)\n",
    "        data_drop = data.drop([\"mkt_id\",\"output_own_cost\", \"output_own_share\", \"output_own_sales\" ], axis=1)\n",
    "        data_for_training = data_drop[[\"output_own_price\",\"output_comp_price\",  \"output_own_profits\" ,  \"output_X\"   ]] \n",
    "\n",
    "        trainX = []\n",
    "        trainY = []\n",
    "\n",
    "        n_future = 1   # Number of days we want to look into the future based on the past days.\n",
    "        n_past =2\n",
    "\n",
    "        for i in range(n_past, len(data_for_training) - n_future +1):\n",
    "            trainX.append(data_for_training.iloc[i - n_past:i, 0:data_for_training.shape[1]])\n",
    "            trainY.append(data_for_training.iloc[i + n_future - 1:i + n_future, 0])\n",
    "\n",
    "\n",
    "        trainX, trainY = np.array(trainX), np.array(trainY)\n",
    "        val = data_for_training.iloc[-2: , :]\n",
    "        val = np.array(val)\n",
    "        val= val.reshape(1, 2, 4)\n",
    "        return trainX, trainY , val\n",
    "\n",
    "        \n",
    "\n",
    "def train_model(trainx= 0, trainy=0 ,train = False) : \n",
    "    model = load_model(\"price_model_2_today\" )\n",
    "    if train == True :\n",
    "        model.fit(trainx, trainy, epochs=10, batch_size=10, verbose = 1 , validation_split=0.1 )\n",
    "        return model \n",
    "    else : \n",
    "        return model\n",
    "        \n",
    "\n",
    "\n",
    "\n",
    "\n",
    "def  predict_price(models, value) : \n",
    "    model = models\n",
    "    res = model.predict(value, verbose = 0)\n",
    "    return res\n",
    "\n",
    "trainX, trainY , val = data_process(path)\n",
    "model =  train_model() "
   ]
  },
  {
   "cell_type": "code",
   "execution_count": 100,
   "id": "e94024a9",
   "metadata": {},
   "outputs": [
    {
     "name": "stdout",
     "output_type": "stream",
     "text": [
      "7.1038146\n"
     ]
    }
   ],
   "source": [
    "forcasting =   predict_price(model, val)\n",
    "print(forcasting[0][0])"
   ]
  },
  {
   "cell_type": "code",
   "execution_count": null,
   "id": "a8d46a33",
   "metadata": {},
   "outputs": [],
   "source": []
  }
 ],
 "metadata": {
  "kernelspec": {
   "display_name": "Python 3 (ipykernel)",
   "language": "python",
   "name": "python3"
  },
  "language_info": {
   "codemirror_mode": {
    "name": "ipython",
    "version": 3
   },
   "file_extension": ".py",
   "mimetype": "text/x-python",
   "name": "python",
   "nbconvert_exporter": "python",
   "pygments_lexer": "ipython3",
   "version": "3.9.12"
  }
 },
 "nbformat": 4,
 "nbformat_minor": 5
}
